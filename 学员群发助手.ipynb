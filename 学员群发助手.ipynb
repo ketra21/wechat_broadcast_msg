{
 "cells": [
  {
   "cell_type": "markdown",
   "metadata": {},
   "source": [
    "# <center> Udacity社群私信群发助手</center>\n",
    "\n",
    "## 私信群发原理\n",
    "利用itchat库，登陆网页版微信，按照**备注名称前缀**筛选成员，输入内容，进行私信群发。\n",
    "## 使用说明\n",
    "- 此群发助手可用于课程班级社群的管理者（班主任、助教、PL等）对群成员的私信群发；  \n",
    "- 使用前需确保管理者已经添加群发对象为好友；  \n",
    "- 使用前需确保管理者已经将同一社群的群发成员设置为相同的**备注名前缀**，如“v23-张三”、“v23-李四”分别代表v23班的张三、李四（前缀长度不限制）。  \n",
    "\n",
    "## 发送步骤\n",
    "\n",
    "1. 运行`broadcast_msg.py`；  \n",
    "1. 管理者扫描弹出的二维码登陆网页版微信；  \n",
    "2. 输入群发对象的**备注名前缀**，如“**v23**”；  \n",
    "3. 核实**群发人数**及**成员名字**；  \n",
    "4. 输入要**群发的信息**；  \n",
    "5. 输入“y”确认发送，发送成功，并回到3步骤；  \n",
    "   或输入“n”不发送，并重新回到3步骤。\n"
   ]
  },
  {
   "cell_type": "code",
   "execution_count": null,
   "metadata": {
    "scrolled": false
   },
   "outputs": [],
   "source": [
    "%run broadcast_msg.py"
   ]
  },
  {
   "cell_type": "code",
   "execution_count": null,
   "metadata": {},
   "outputs": [],
   "source": []
  }
 ],
 "metadata": {
  "kernelspec": {
   "display_name": "Python 3",
   "language": "python",
   "name": "python3"
  },
  "language_info": {
   "codemirror_mode": {
    "name": "ipython",
    "version": 3
   },
   "file_extension": ".py",
   "mimetype": "text/x-python",
   "name": "python",
   "nbconvert_exporter": "python",
   "pygments_lexer": "ipython3",
   "version": "3.7.1"
  }
 },
 "nbformat": 4,
 "nbformat_minor": 2
}
